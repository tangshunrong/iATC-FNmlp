{
 "cells": [
  {
   "cell_type": "code",
   "execution_count": 1,
   "metadata": {},
   "outputs": [],
   "source": [
    "import scipy\n",
    "import pandas as pd\n",
    "#from scipy.io import arff\n",
    "#from sklearn.model_selection import train_test_split\n",
    "#from keras.layers import Dense\n",
    "import numpy as np"
   ]
  },
  {
   "cell_type": "code",
   "execution_count": 2,
   "metadata": {},
   "outputs": [],
   "source": [
    "with open('./result.txt', 'r') as f:\n",
    "    for i in range(7766):\n",
    "        s = f.readline()\n",
    "        with open('res.txt','a') as fh:\n",
    "            if i%2 == 1:\n",
    "                fh.write(s)\n"
   ]
  },
  {
   "cell_type": "code",
   "execution_count": 3,
   "metadata": {
    "tags": []
   },
   "outputs": [],
   "source": [
    "\n",
    "    with open('./res.txt', 'r') as f:\n",
    "        for j in range(3883):\n",
    "            content = f.readline()\n",
    "            #print(content)\n",
    "            content = content.strip('\\n') \n",
    "            #predict = [float(n) for n in content.split(',')] \n",
    "            predict = list(map(float, content.strip().split(','))) \n",
    "            max = np.max(predict)\n",
    "            max_location = np.argmax(predict)\n",
    "            result = [0,0,0,0,0,0,0,0,0,0,0,0,0,0]\n",
    "            result[(max_location)] = 1\n",
    "            zero = 0\n",
    "            for i in range(14):\n",
    "                if predict[i] > max-0.1:\n",
    "                    result[i] = 1\n",
    "            for i in range(14):\n",
    "                if predict[i] > 0.6:\n",
    "                    result[i] = 1\n",
    "            for i in range(14):\n",
    "                zero = zero + int(result[i])\n",
    "            if zero == 14:                \n",
    "                for k in range(14):\n",
    "                    result[k] = 0\n",
    "                result[(max_location)] = 1\n",
    "            #result = ','.join(result) \n",
    "            result = str(result)\n",
    "            result = result.replace(\" \", \"\")\n",
    "            result = result.replace(\"[\", \"\")\n",
    "            result = result.replace(\"]\", \"\")\n",
    "            with open('K-cross_results.txt','a') as file_handle:\n",
    "                file_handle.write(result)     # 写入\n",
    "                file_handle.write('\\n') "
   ]
  },
  {
   "cell_type": "code",
   "execution_count": 4,
   "metadata": {},
   "outputs": [
    {
     "output_type": "stream",
     "name": "stdout",
     "text": [
      "3078\n"
     ]
    }
   ],
   "source": [
    "\n",
    "    file1path = 'atc-label.txt'\n",
    "    file2path = 'K-cross_results1.txt'\n",
    "    file_1 = open(file1path,'r')\n",
    "    file_2 = open(file2path,'r')\n",
    "    j = 0\n",
    "    with open('results_stat1.txt','a') as result_stat:\n",
    "        for i in range(3883):\n",
    "            m = file_1.readline()\n",
    "            n = file_2.readline()\n",
    "            if m==n:\n",
    "                j += 1\n",
    "                result_stat.write('Abs True')\n",
    "                result_stat.write('\\n')\n",
    "            else:\n",
    "                result_stat.write('False')\n",
    "                result_stat.write('\\n')\n",
    "    print(j)"
   ]
  },
  {
   "cell_type": "code",
   "execution_count": null,
   "metadata": {},
   "outputs": [],
   "source": []
  }
 ],
 "metadata": {
  "kernelspec": {
   "name": "python3610jvsc74a57bd0280b9355032d229ab1643263eb0ecc2e53873d37f0c20390aaaeff73ee06bda5",
   "display_name": "Python 3.6.10 64-bit ('py36': conda)"
  }
 },
 "nbformat": 4,
 "nbformat_minor": 4
}