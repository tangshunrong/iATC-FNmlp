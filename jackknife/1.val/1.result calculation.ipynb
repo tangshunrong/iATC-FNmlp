{
 "cells": [
  {
   "cell_type": "code",
   "execution_count": 1,
   "metadata": {},
   "outputs": [],
   "source": [
    "for k in range(1,2):\n",
    "\n",
    "    file1path = 'atc-label.txt'\n",
    "    file2path = 'K-cross_results%s.txt'%k\n",
    "\n",
    "    file_1 = open(file1path,'r')\n",
    "    file_2 = open(file2path,'r')\n",
    "\n",
    "    for j in range(3883):\n",
    "        s1 = file_1.readline()\n",
    "\n",
    "        s1 = s1.strip('\\n')\n",
    "        s1 = s1.split(',')\n",
    "\n",
    "\n",
    "        s2 = file_2.readline()\n",
    "\n",
    "        s2 = s2.strip('\\n')\n",
    "        s2 = s2.split(',')\n",
    "\n",
    "        a = 0\n",
    "        b = 0\n",
    "        c = 0\n",
    "        d = 0\n",
    "\n",
    "#a:Lk ∩ Lkk\n",
    "#b:Lk ∪ Lkk\n",
    "#c:Lk\n",
    "#d:Lkk\n",
    "        for i in range(14):\n",
    "            if int(s1[i]) == 1 and int(s2[i]) == 1:\n",
    "                a += 1\n",
    "                b += 1\n",
    "                c += 1\n",
    "                d += 1\n",
    "            elif int(s1[i]) == 1 and int(s2[i]) == 0:\n",
    "                b += 1\n",
    "                c += 1\n",
    "            elif int(s1[i]) == 0 and int(s2[i]) == 1:\n",
    "                b += 1\n",
    "                d += 1\n",
    "        acc = a/b\n",
    "        with open('1acc_results%s.txt'%k,'a') as file_handle:\n",
    "                file_handle.write(str(acc))     # 写入\n",
    "                file_handle.write('\\n') \n",
    "        absF = (b-a)/14\n",
    "        with open('1abs_false%s.txt'%k,'a') as file_handle:\n",
    "                file_handle.write(str(absF))     # 写入\n",
    "                file_handle.write('\\n') \n",
    "        aim = a/d\n",
    "        with open('1aim_results%s.txt'%k,'a') as file_handle:\n",
    "                file_handle.write(str(aim))     # 写入\n",
    "                file_handle.write('\\n')        \n",
    "        cov = a/c\n",
    "        with open('1cov_results%s.txt'%k,'a') as file_handle:\n",
    "                file_handle.write(str(cov))     # 写入\n",
    "                file_handle.write('\\n')   \n",
    "\n",
    "#print(a)\n",
    "#print(b)"
   ]
  },
  {
   "cell_type": "code",
   "execution_count": 2,
   "metadata": {},
   "outputs": [
    {
     "output_type": "stream",
     "name": "stdout",
     "text": [
      "0.7926860674736029\n"
     ]
    }
   ],
   "source": [
    "t = 0\n",
    "for p in range (1,2):\n",
    "      #q = (3883/10)*(p+1)\n",
    "      #print(q)\n",
    "\n",
    "      filepath = 'results_stat%s.txt'%p\n",
    "      with open(filepath) as f:\n",
    "          lines = f.read().splitlines()\n",
    "      #print(lines[(int(q)-388):int(q)])\n",
    "      lines_test = lines\n",
    "      #print(lines[0:388])\n",
    "      r = 0\n",
    "      for s in lines_test:\n",
    "          #print(s)\n",
    "          if s == 'Abs True':\n",
    "              r += 1\n",
    "      #print(r)\n",
    "      t += r\n",
    "      print(r/3883)\n",
    "      \n",
    "#print(t/3880)"
   ]
  },
  {
   "cell_type": "code",
   "execution_count": 3,
   "metadata": {},
   "outputs": [
    {
     "output_type": "stream",
     "name": "stdout",
     "text": [
      "0.8274193779151285\n"
     ]
    }
   ],
   "source": [
    "t = 0\n",
    "for p in range (1,2):\n",
    "      #q = (3883/10)*(p+1)\n",
    "      #print(q)\n",
    "\n",
    "      filepath = '1acc_results%s.txt'%p\n",
    "      with open(filepath) as f:\n",
    "          lines = f.read().splitlines()\n",
    "      #print(lines[(int(q)-388):int(q)])\n",
    "      lines_test = lines\n",
    "      #print(lines[0:388])\n",
    "      r = 0\n",
    "      for s in lines_test:\n",
    "          #print(s)\n",
    "\n",
    "          r += float(s)\n",
    "      print(r/3883)\n",
    "\n"
   ]
  },
  {
   "cell_type": "code",
   "execution_count": 4,
   "metadata": {},
   "outputs": [
    {
     "output_type": "stream",
     "name": "stdout",
     "text": [
      "0.029597880872668167\n"
     ]
    }
   ],
   "source": [
    "t = 0\n",
    "for p in range (1,2):\n",
    "      #q = (3883/10)*(p+1)\n",
    "      #print(q)\n",
    "\n",
    "      filepath = '1abs_false%s.txt'%p\n",
    "      with open(filepath) as f:\n",
    "          lines = f.read().splitlines()\n",
    "      #print(lines[(int(q)-388):int(q)])\n",
    "      lines_test = lines\n",
    "      #print(lines[0:388])\n",
    "      r = 0\n",
    "      for s in lines_test:\n",
    "          #print(s)\n",
    "\n",
    "          r += float(s)\n",
    "      print(r/3883)"
   ]
  },
  {
   "cell_type": "code",
   "execution_count": 5,
   "metadata": {},
   "outputs": [
    {
     "output_type": "stream",
     "name": "stdout",
     "text": [
      "0.8460135552203543\n"
     ]
    }
   ],
   "source": [
    "t = 0\n",
    "for p in range (1,2):\n",
    "      #q = (3883/10)*(p+1)\n",
    "      #print(q)\n",
    "\n",
    "      filepath = '1aim_results%s.txt'%p\n",
    "      with open(filepath) as f:\n",
    "          lines = f.read().splitlines()\n",
    "      #print(lines[(int(q)-388):int(q)])\n",
    "      lines_test = lines\n",
    "      #print(lines[0:388])\n",
    "      r = 0\n",
    "      for s in lines_test:\n",
    "          #print(s)\n",
    "\n",
    "          r += float(s)\n",
    "      print(r/3883)"
   ]
  },
  {
   "cell_type": "code",
   "execution_count": 6,
   "metadata": {},
   "outputs": [
    {
     "output_type": "stream",
     "name": "stdout",
     "text": [
      "0.8469439436861531\n"
     ]
    }
   ],
   "source": [
    "t = 0\n",
    "for p in range (1,2):\n",
    "      #q = (3883/10)*(p+1)\n",
    "      #print(q)\n",
    "\n",
    "      filepath = '1cov_results%s.txt'%p\n",
    "      with open(filepath) as f:\n",
    "          lines = f.read().splitlines()\n",
    "      #print(lines[(int(q)-388):int(q)])\n",
    "      lines_test = lines\n",
    "      #print(lines[0:388])\n",
    "      r = 0\n",
    "      for s in lines_test:\n",
    "          #print(s)\n",
    "\n",
    "          r += float(s)\n",
    "      print(r/3883)"
   ]
  },
  {
   "cell_type": "code",
   "execution_count": null,
   "metadata": {},
   "outputs": [],
   "source": []
  }
 ],
 "metadata": {
  "kernelspec": {
   "name": "python3610jvsc74a57bd0280b9355032d229ab1643263eb0ecc2e53873d37f0c20390aaaeff73ee06bda5",
   "display_name": "Python 3.6.10 64-bit ('py36': conda)"
  }
 },
 "nbformat": 4,
 "nbformat_minor": 4
}