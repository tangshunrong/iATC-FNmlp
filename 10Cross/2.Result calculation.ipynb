{
 "cells": [
  {
   "cell_type": "code",
   "execution_count": 1,
   "metadata": {},
   "outputs": [],
   "source": [
    "# To calculate absolute true, accuracy, absolute false, aiming, coverage. \n",
    "\n",
    "for k in range(10):\n",
    "\n",
    "    file1path = 'atc-label-512-400_S.txt'\n",
    "    file2path = 'K-cross_results[%s].txt'%k\n",
    "\n",
    "    file_1 = open(file1path,'r')\n",
    "    file_2 = open(file2path,'r')\n",
    "\n",
    "    for j in range(3883):\n",
    "        s1 = file_1.readline()   # s1 labels\n",
    "\n",
    "        s1 = s1.strip('\\n')\n",
    "        s1 = s1.split(',')\n",
    "\n",
    "\n",
    "        s2 = file_2.readline()   # s2 predictions\n",
    "\n",
    "        s2 = s2.strip('\\n')\n",
    "        s2 = s2.split(',')\n",
    "\n",
    "        a = 0\n",
    "        b = 0\n",
    "        c = 0\n",
    "        d = 0\n",
    "\n",
    "#a:Lk ∩ Lkk\n",
    "#b:Lk ∪ Lkk\n",
    "#c:Lk\n",
    "#d:Lkk\n",
    "        for i in range(14):\n",
    "            if int(s1[i]) == 1 and int(s2[i]) == 1:\n",
    "                a += 1\n",
    "                b += 1\n",
    "                c += 1\n",
    "                d += 1\n",
    "            elif int(s1[i]) == 1 and int(s2[i]) == 0:\n",
    "                b += 1\n",
    "                c += 1\n",
    "            elif int(s1[i]) == 0 and int(s2[i]) == 1:\n",
    "                b += 1\n",
    "                d += 1\n",
    "        acc = a/b\n",
    "        with open('1acc_results[%s].txt'%k,'a') as file_handle:\n",
    "                file_handle.write(str(acc))     # accuracy\n",
    "                file_handle.write('\\n') \n",
    "        absF = (b-a)/14\n",
    "        with open('1abs_false[%s].txt'%k,'a') as file_handle:\n",
    "                file_handle.write(str(absF))     # absolute false\n",
    "                file_handle.write('\\n') \n",
    "        aim = a/d\n",
    "        with open('1aim_results[%s].txt'%k,'a') as file_handle:\n",
    "                file_handle.write(str(aim))     # aiming\n",
    "                file_handle.write('\\n')        \n",
    "        cov = a/c\n",
    "        with open('1cov_results[%s].txt'%k,'a') as file_handle:\n",
    "                file_handle.write(str(cov))     # coverage\n",
    "                file_handle.write('\\n')   \n",
    "\n",
    "#print(a)\n",
    "#print(b)"
   ]
  },
  {
   "cell_type": "code",
   "execution_count": 2,
   "metadata": {},
   "outputs": [
    {
     "output_type": "stream",
     "name": "stdout",
     "text": [
      "0.7654639175257731\n0.8479381443298969\n0.8041237113402062\n0.8092783505154639\n0.8041237113402062\n0.7860824742268041\n0.7603092783505154\n0.75\n0.8067010309278351\n0.7912371134020618\n"
     ]
    }
   ],
   "source": [
    "# Calculate test-set absolute true\n",
    "\n",
    "t = 0\n",
    "for p in range (10):\n",
    "      q = (3883/10)*(p+1)\n",
    "      #print(q)\n",
    "\n",
    "      filepath = 'results_stat[%s].txt'%p\n",
    "      with open(filepath) as f:\n",
    "          lines = f.read().splitlines()\n",
    "      #print(lines[(int(q)-388):int(q)])\n",
    "      lines_test = lines[(int(q)-388):int(q)]   # Find the test-set range\n",
    "      #print(lines[0:388])\n",
    "      r = 0\n",
    "      for s in lines_test:\n",
    "          #print(s)\n",
    "          if s == 'Abs True':\n",
    "              r += 1\n",
    "      #print(r)\n",
    "      t += r\n",
    "      print(r/388)\n",
    "      \n",
    "#print(t/3880)"
   ]
  },
  {
   "cell_type": "code",
   "execution_count": 3,
   "metadata": {},
   "outputs": [
    {
     "output_type": "stream",
     "name": "stdout",
     "text": [
      "0.8002147766323026\n",
      "0.8616838487972509\n",
      "0.8435137457044676\n",
      "0.8423969072164947\n",
      "0.8398840206185568\n",
      "0.8259020618556699\n",
      "0.8017611683848799\n",
      "0.8059707903780068\n",
      "0.845790378006873\n",
      "0.8221219931271476\n"
     ]
    }
   ],
   "source": [
    "# Calculate test-set accuracy\n",
    "\n",
    "t = 0\n",
    "for p in range (10):\n",
    "      q = (3883/10)*(p+1)\n",
    "      #print(q)\n",
    "\n",
    "      filepath = '1acc_results[%s].txt'%p\n",
    "      with open(filepath) as f:\n",
    "          lines = f.read().splitlines()\n",
    "      #print(lines[(int(q)-388):int(q)])\n",
    "      lines_test = lines[(int(q)-388):int(q)]   # Find the test-set range\n",
    "      #print(lines[0:388])\n",
    "      r = 0\n",
    "      for s in lines_test:\n",
    "          #print(s)\n",
    "\n",
    "          r += float(s)\n",
    "      print(r/388)\n",
    "\n"
   ]
  },
  {
   "cell_type": "code",
   "execution_count": 4,
   "metadata": {},
   "outputs": [
    {
     "output_type": "stream",
     "name": "stdout",
     "text": [
      "0.036266568483063304\n",
      "0.022091310751104577\n",
      "0.026693667157584686\n",
      "0.0276141384388807\n",
      "0.02743004418262149\n",
      "0.03166421207658319\n",
      "0.033505154639175236\n",
      "0.03534609720176728\n",
      "0.02816642120765831\n",
      "0.030559646539027964\n"
     ]
    }
   ],
   "source": [
    "# Calculate test-set absolute false\n",
    "\n",
    "t = 0\n",
    "for p in range (10):\n",
    "      q = (3883/10)*(p+1)\n",
    "      #print(q)\n",
    "\n",
    "      filepath = '1abs_false[%s].txt'%p\n",
    "      with open(filepath) as f:\n",
    "          lines = f.read().splitlines()\n",
    "      #print(lines[(int(q)-388):int(q)])\n",
    "      lines_test = lines[(int(q)-388):int(q)]   # Find the test-set range\n",
    "      #print(lines[0:388])\n",
    "      r = 0\n",
    "      for s in lines_test:\n",
    "          #print(s)\n",
    "\n",
    "          r += float(s)\n",
    "      print(r/388)"
   ]
  },
  {
   "cell_type": "code",
   "execution_count": 5,
   "metadata": {},
   "outputs": [
    {
     "output_type": "stream",
     "name": "stdout",
     "text": [
      "0.8204467353951891\n",
      "0.8646907216494846\n",
      "0.8649914089347079\n",
      "0.8634020618556701\n",
      "0.852770618556701\n",
      "0.8416666666666666\n",
      "0.8288230240549829\n",
      "0.8333333333333333\n",
      "0.8726374570446734\n",
      "0.8402061855670102\n"
     ]
    }
   ],
   "source": [
    "# Calculate test-set aiming\n",
    "\n",
    "t = 0\n",
    "for p in range (10):\n",
    "      q = (3883/10)*(p+1)\n",
    "      #print(q)\n",
    "\n",
    "      filepath = '1aim_results[%s].txt'%p\n",
    "      with open(filepath) as f:\n",
    "          lines = f.read().splitlines()\n",
    "      #print(lines[(int(q)-388):int(q)])\n",
    "      lines_test = lines[(int(q)-388):int(q)]   # Find the test-set range\n",
    "      #print(lines[0:388])\n",
    "      r = 0\n",
    "      for s in lines_test:\n",
    "          #print(s)\n",
    "\n",
    "          r += float(s)\n",
    "      print(r/388)"
   ]
  },
  {
   "cell_type": "code",
   "execution_count": 6,
   "metadata": {},
   "outputs": [
    {
     "output_type": "stream",
     "name": "stdout",
     "text": [
      "0.815077319587629\n",
      "0.8724226804123711\n",
      "0.8676975945017185\n",
      "0.8582474226804125\n",
      "0.863659793814433\n",
      "0.8567439862542956\n",
      "0.8198024054982818\n",
      "0.8249999999999997\n",
      "0.8653350515463916\n",
      "0.8427835051546392\n"
     ]
    }
   ],
   "source": [
    "# Calculate test-set coverage\n",
    "\n",
    "t = 0\n",
    "for p in range (10):\n",
    "      q = (3883/10)*(p+1)\n",
    "      #print(q)\n",
    "\n",
    "      filepath = '1cov_results[%s].txt'%p\n",
    "      with open(filepath) as f:\n",
    "          lines = f.read().splitlines()\n",
    "      #print(lines[(int(q)-388):int(q)])\n",
    "      lines_test = lines[(int(q)-388):int(q)]\n",
    "      #print(lines[0:388])\n",
    "      r = 0\n",
    "      for s in lines_test:\n",
    "          #print(s)\n",
    "\n",
    "          r += float(s)\n",
    "      print(r/388)"
   ]
  },
  {
   "cell_type": "code",
   "execution_count": null,
   "metadata": {},
   "outputs": [],
   "source": []
  }
 ],
 "metadata": {
  "kernelspec": {
   "name": "python3610jvsc74a57bd0280b9355032d229ab1643263eb0ecc2e53873d37f0c20390aaaeff73ee06bda5",
   "display_name": "Python 3.6.10 64-bit ('py36': conda)"
  }
 },
 "nbformat": 4,
 "nbformat_minor": 4
}