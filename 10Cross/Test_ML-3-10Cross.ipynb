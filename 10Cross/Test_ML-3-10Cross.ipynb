{
 "cells": [
  {
   "cell_type": "code",
   "execution_count": 1,
   "metadata": {},
   "outputs": [
    {
     "output_type": "stream",
     "name": "stdout",
     "text": [
      "388.3\n266\n0.6855670103092784\n776.6\n281\n0.7242268041237113\n1164.9\n282\n0.7268041237113402\n1553.2\n284\n0.7319587628865979\n1941.5\n295\n0.7603092783505154\n2329.8\n285\n0.7345360824742269\n2718.1\n288\n0.7422680412371134\n3106.4\n282\n0.7268041237113402\n3494.7000000000003\n278\n0.7164948453608248\n3883.0\n288\n0.7422680412371134\n0.7291237113402061\n"
     ]
    }
   ],
   "source": [
    "t = 0\n",
    "for p in range (10):\n",
    "      q = (3883/10)*(p+1)\n",
    "      #print(q)\n",
    "\n",
    "      filepath = 'results_stat[%s].txt'%p\n",
    "      with open(filepath) as f:\n",
    "          lines = f.read().splitlines()\n",
    "      #print(lines[(int(q)-388):int(q)])\n",
    "      lines_test = lines[(int(q)-388):int(q)]\n",
    "      #print(lines[0:388])\n",
    "      r = 0\n",
    "      for s in lines_test:\n",
    "          #print(s)\n",
    "          if s == 'Abs True':\n",
    "              r += 1\n",
    "      #print(r)\n",
    "      t += r\n",
    "      print(r/388)\n",
    "      \n",
    "print(t/3880)\n"
   ]
  },
  {
   "cell_type": "code",
   "execution_count": 2,
   "metadata": {
    "tags": []
   },
   "outputs": [
    {
     "output_type": "stream",
     "name": "stdout",
     "text": [
      "266\n"
     ]
    }
   ],
   "source": [
    "      p = 0\n",
    "      filepath = 'results_stat[%s].txt'%p\n",
    "      q = (3883/10)*(p+1)\n",
    "      with open(filepath) as f:\n",
    "          lines = f.read().splitlines()\n",
    "      #print(lines[(int(q)-388):int(q)])\n",
    "      lines_test = lines[(int(q)-388):int(q)]\n",
    "      #print(lines[0:388])\n",
    "      r = 0\n",
    "      for s in lines_test:\n",
    "          #print(s)\n",
    "          if s == 'Abs True':\n",
    "              r += 1\n",
    "      print(r)"
   ]
  },
  {
   "cell_type": "code",
   "execution_count": null,
   "metadata": {},
   "outputs": [],
   "source": []
  }
 ],
 "metadata": {
  "kernelspec": {
   "name": "python3",
   "display_name": "Python 3.6.10 64-bit ('py36': conda)",
   "metadata": {
    "interpreter": {
     "hash": "852db99f5d2be61b0da27ec56bfa34b4e0fbcec21ce7958dd97e932734b3dcc5"
    }
   }
  }
 },
 "nbformat": 4,
 "nbformat_minor": 4
}