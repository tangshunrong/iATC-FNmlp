{
 "cells": [
  {
   "cell_type": "code",
   "execution_count": 1,
   "metadata": {},
   "outputs": [
    {
     "output_type": "stream",
     "name": "stderr",
     "text": [
      "Using TensorFlow backend.\n",
      "C:\\ProgramData\\Anaconda3\\envs\\py36\\lib\\site-packages\\tensorflow\\python\\framework\\dtypes.py:516: FutureWarning: Passing (type, 1) or '1type' as a synonym of type is deprecated; in a future version of numpy, it will be understood as (type, (1,)) / '(1,)type'.\n",
      "  _np_qint8 = np.dtype([(\"qint8\", np.int8, 1)])\n",
      "C:\\ProgramData\\Anaconda3\\envs\\py36\\lib\\site-packages\\tensorflow\\python\\framework\\dtypes.py:517: FutureWarning: Passing (type, 1) or '1type' as a synonym of type is deprecated; in a future version of numpy, it will be understood as (type, (1,)) / '(1,)type'.\n",
      "  _np_quint8 = np.dtype([(\"quint8\", np.uint8, 1)])\n",
      "C:\\ProgramData\\Anaconda3\\envs\\py36\\lib\\site-packages\\tensorflow\\python\\framework\\dtypes.py:518: FutureWarning: Passing (type, 1) or '1type' as a synonym of type is deprecated; in a future version of numpy, it will be understood as (type, (1,)) / '(1,)type'.\n",
      "  _np_qint16 = np.dtype([(\"qint16\", np.int16, 1)])\n",
      "C:\\ProgramData\\Anaconda3\\envs\\py36\\lib\\site-packages\\tensorflow\\python\\framework\\dtypes.py:519: FutureWarning: Passing (type, 1) or '1type' as a synonym of type is deprecated; in a future version of numpy, it will be understood as (type, (1,)) / '(1,)type'.\n",
      "  _np_quint16 = np.dtype([(\"quint16\", np.uint16, 1)])\n",
      "C:\\ProgramData\\Anaconda3\\envs\\py36\\lib\\site-packages\\tensorflow\\python\\framework\\dtypes.py:520: FutureWarning: Passing (type, 1) or '1type' as a synonym of type is deprecated; in a future version of numpy, it will be understood as (type, (1,)) / '(1,)type'.\n",
      "  _np_qint32 = np.dtype([(\"qint32\", np.int32, 1)])\n",
      "C:\\ProgramData\\Anaconda3\\envs\\py36\\lib\\site-packages\\tensorflow\\python\\framework\\dtypes.py:525: FutureWarning: Passing (type, 1) or '1type' as a synonym of type is deprecated; in a future version of numpy, it will be understood as (type, (1,)) / '(1,)type'.\n",
      "  np_resource = np.dtype([(\"resource\", np.ubyte, 1)])\n",
      "C:\\ProgramData\\Anaconda3\\envs\\py36\\lib\\site-packages\\tensorboard\\compat\\tensorflow_stub\\dtypes.py:541: FutureWarning: Passing (type, 1) or '1type' as a synonym of type is deprecated; in a future version of numpy, it will be understood as (type, (1,)) / '(1,)type'.\n",
      "  _np_qint8 = np.dtype([(\"qint8\", np.int8, 1)])\n",
      "C:\\ProgramData\\Anaconda3\\envs\\py36\\lib\\site-packages\\tensorboard\\compat\\tensorflow_stub\\dtypes.py:542: FutureWarning: Passing (type, 1) or '1type' as a synonym of type is deprecated; in a future version of numpy, it will be understood as (type, (1,)) / '(1,)type'.\n",
      "  _np_quint8 = np.dtype([(\"quint8\", np.uint8, 1)])\n",
      "C:\\ProgramData\\Anaconda3\\envs\\py36\\lib\\site-packages\\tensorboard\\compat\\tensorflow_stub\\dtypes.py:543: FutureWarning: Passing (type, 1) or '1type' as a synonym of type is deprecated; in a future version of numpy, it will be understood as (type, (1,)) / '(1,)type'.\n",
      "  _np_qint16 = np.dtype([(\"qint16\", np.int16, 1)])\n",
      "C:\\ProgramData\\Anaconda3\\envs\\py36\\lib\\site-packages\\tensorboard\\compat\\tensorflow_stub\\dtypes.py:544: FutureWarning: Passing (type, 1) or '1type' as a synonym of type is deprecated; in a future version of numpy, it will be understood as (type, (1,)) / '(1,)type'.\n",
      "  _np_quint16 = np.dtype([(\"quint16\", np.uint16, 1)])\n",
      "C:\\ProgramData\\Anaconda3\\envs\\py36\\lib\\site-packages\\tensorboard\\compat\\tensorflow_stub\\dtypes.py:545: FutureWarning: Passing (type, 1) or '1type' as a synonym of type is deprecated; in a future version of numpy, it will be understood as (type, (1,)) / '(1,)type'.\n",
      "  _np_qint32 = np.dtype([(\"qint32\", np.int32, 1)])\n",
      "C:\\ProgramData\\Anaconda3\\envs\\py36\\lib\\site-packages\\tensorboard\\compat\\tensorflow_stub\\dtypes.py:550: FutureWarning: Passing (type, 1) or '1type' as a synonym of type is deprecated; in a future version of numpy, it will be understood as (type, (1,)) / '(1,)type'.\n",
      "  np_resource = np.dtype([(\"resource\", np.ubyte, 1)])\n"
     ]
    }
   ],
   "source": [
    "# Tensorflow Version 1.15 \n",
    "# Keras Version 2.2.4\n",
    "# Python Version 3.6 \n",
    "\n",
    "import scipy\n",
    "import pandas as pd\n",
    "from scipy.io import arff\n",
    "from sklearn.model_selection import train_test_split\n",
    "from keras.layers import Dense\n",
    "import numpy as np"
   ]
  },
  {
   "cell_type": "code",
   "execution_count": 2,
   "metadata": {},
   "outputs": [],
   "source": [
    "# import shuffled dataset. The dataset combined Mashup and Morgan fingerprint. \n",
    "# t1-t14: labels, marked in \"0\" or \"1\" \n",
    "# f1-f512: fingerprint, marked in \"0\" or \"1\" \n",
    "# f513-f912: Mashup vector \n",
    "\n",
    "data, meta = scipy.io.arff.loadarff('512_400_S.arff')\n",
    "df = pd.DataFrame(data)"
   ]
  },
  {
   "cell_type": "code",
   "execution_count": 3,
   "metadata": {},
   "outputs": [],
   "source": [
    "#df"
   ]
  },
  {
   "cell_type": "code",
   "execution_count": 4,
   "metadata": {},
   "outputs": [],
   "source": [
    "# Set 1-14 col as labels, set 15-926 col as feature vectors\n",
    "\n",
    "X = df.iloc[:,14:926].values\n",
    "y = df.iloc[:,0:14].values\n",
    "\n",
    "#X_train, X_test, y_train, y_test = train_test_split(X, y, test_size=0.2, random_state=0)\n",
    "#y_train = y_train.astype(np.float64)\n",
    "#y_test = y_test.astype(np.float64)"
   ]
  },
  {
   "cell_type": "code",
   "execution_count": 5,
   "metadata": {},
   "outputs": [
    {
     "output_type": "stream",
     "name": "stderr",
     "text": [
      "WARNING: Logging before flag parsing goes to stderr.\n",
      "W0301 17:15:36.247568 13972 deprecation_wrapper.py:119] From C:\\Anaconda3\\envs\\py36\\lib\\site-packages\\keras\\backend\\tensorflow_backend.py:517: The name tf.placeholder is deprecated. Please use tf.compat.v1.placeholder instead.\n",
      "\n",
      "W0301 17:15:36.267565 13972 deprecation_wrapper.py:119] From C:\\Anaconda3\\envs\\py36\\lib\\site-packages\\keras\\backend\\tensorflow_backend.py:4138: The name tf.random_uniform is deprecated. Please use tf.random.uniform instead.\n",
      "\n",
      "W0301 17:15:36.390564 13972 deprecation_wrapper.py:119] From C:\\Anaconda3\\envs\\py36\\lib\\site-packages\\keras\\backend\\tensorflow_backend.py:174: The name tf.get_default_session is deprecated. Please use tf.compat.v1.get_default_session instead.\n",
      "\n",
      "W0301 17:15:36.392563 13972 deprecation_wrapper.py:119] From C:\\Anaconda3\\envs\\py36\\lib\\site-packages\\keras\\backend\\tensorflow_backend.py:181: The name tf.ConfigProto is deprecated. Please use tf.compat.v1.ConfigProto instead.\n",
      "\n",
      "W0301 17:15:36.392563 13972 deprecation_wrapper.py:119] From C:\\Anaconda3\\envs\\py36\\lib\\site-packages\\keras\\backend\\tensorflow_backend.py:186: The name tf.Session is deprecated. Please use tf.compat.v1.Session instead.\n",
      "\n",
      "W0301 17:15:37.420084 13972 deprecation_wrapper.py:119] From C:\\Anaconda3\\envs\\py36\\lib\\site-packages\\keras\\optimizers.py:790: The name tf.train.Optimizer is deprecated. Please use tf.compat.v1.train.Optimizer instead.\n",
      "\n",
      "W0301 17:15:37.429067 13972 deprecation.py:323] From C:\\Anaconda3\\envs\\py36\\lib\\site-packages\\tensorflow\\python\\ops\\nn_impl.py:180: add_dispatch_support.<locals>.wrapper (from tensorflow.python.ops.array_ops) is deprecated and will be removed in a future version.\n",
      "Instructions for updating:\n",
      "Use tf.where in 2.0, which has the same broadcast rule as np.where\n"
     ]
    }
   ],
   "source": [
    "# Load the model and predit. \n",
    "# 10-Cross validation, 10 models in total. \n",
    "# If you use cuda to run it, the minimun graph card memory is 4GB. \n",
    "\n",
    "for i in range(10):\n",
    "    from keras.models import load_model\n",
    "    model = load_model('my_model'+str(i)+'.h5')\n",
    "    result_array = model.predict(X[0:3884])   # Prediction\n",
    "    np.savetxt(\"./K-Cross[%s].txt\"%i, result_array,fmt='%f',delimiter=',')   # Save to the txt"
   ]
  },
  {
   "cell_type": "code",
   "execution_count": 8,
   "metadata": {
    "tags": []
   },
   "outputs": [],
   "source": [
    "# Judgment threshold setting \n",
    "# There are three regulations: \n",
    "# 1. find all items that are over 0.6. \n",
    "# 2. find the max item. \n",
    "# 3. find all items that are less than 0.1 compared to the max item. \n",
    "\n",
    "for m in range(10):\n",
    "    with open('./K-Cross[%s].txt'%m, 'r') as f:\n",
    "        for j in range(3883):\n",
    "            content = f.readline()   # Read prediction vector line\n",
    "            #print(content)\n",
    "            content = content.strip('\\n') \n",
    "            \n",
    "            predict = list(map(float, content.strip().split(',')))    # Split vector items into list\n",
    "            max = np.max(predict)   # Find max item\n",
    "            max_location = np.argmax(predict)   # Find max item locaton\n",
    "            result = [0,0,0,0,0,0,0,0,0,0,0,0,0,0]   # Generate empty list to store prediction result (0 or 1).\n",
    "            result[(max_location)] = 1   # Mark max item as 1\n",
    "            zero = 0   # Number of 0 in the list\n",
    "            for i in range(14):\n",
    "                if predict[i] > max-0.1:   # Find all items that are less than 0.1 compared to the max item. \n",
    "                    result[i] = 1\n",
    "            for i in range(14):\n",
    "                if predict[i] >= 0.6:   # Find all items that are over 0.6. \n",
    "                    result[i] = 1\n",
    "            for i in range(14):\n",
    "                zero = zero + int(result[i])\n",
    "            if zero == 14:                \n",
    "                for k in range(14):\n",
    "                    result[k] = 0\n",
    "                result[(max_location)] = 1\n",
    "            #result = ','.join(result) \n",
    "\n",
    "            # text processing\n",
    "            result = str(result)\n",
    "            result = result.replace(\" \", \"\")\n",
    "            result = result.replace(\"[\", \"\")\n",
    "            result = result.replace(\"]\", \"\")\n",
    "            # Write into txt\n",
    "            with open('K-cross_results[%s].txt'%m,'a') as file_handle:\n",
    "                file_handle.write(result)  \n",
    "                file_handle.write('\\n') \n",
    "\n"
   ]
  },
  {
   "cell_type": "code",
   "execution_count": 1,
   "metadata": {},
   "outputs": [],
   "source": [
    "# Generate \"Abs True\" and \"Not Abs True (False)\" text for statistics\n",
    "\n",
    "for m in range (10):\n",
    "    file1path = 'atc-label-512-400_S.txt'\n",
    "    file2path = 'K-cross_results[%s].txt'%m\n",
    "    file_1 = open(file1path,'r')\n",
    "    file_2 = open(file2path,'r')\n",
    "    j = 0\n",
    "    with open('results_stat[%s].txt'%m,'a') as result_stat:\n",
    "        for i in range(3883):\n",
    "            m = file_1.readline()\n",
    "            n = file_2.readline()\n",
    "            if m==n:\n",
    "                j += 1\n",
    "                result_stat.write('Abs True')\n",
    "                result_stat.write('\\n')\n",
    "            else:\n",
    "                result_stat.write('False')\n",
    "                result_stat.write('\\n')\n",
    "    #print(j)"
   ]
  },
  {
   "cell_type": "code",
   "execution_count": null,
   "metadata": {},
   "outputs": [],
   "source": []
  }
 ],
 "metadata": {
  "kernelspec": {
   "name": "python3610jvsc74a57bd0280b9355032d229ab1643263eb0ecc2e53873d37f0c20390aaaeff73ee06bda5",
   "display_name": "Python 3.6.10 64-bit ('py36': conda)"
  }
 },
 "nbformat": 4,
 "nbformat_minor": 4
}